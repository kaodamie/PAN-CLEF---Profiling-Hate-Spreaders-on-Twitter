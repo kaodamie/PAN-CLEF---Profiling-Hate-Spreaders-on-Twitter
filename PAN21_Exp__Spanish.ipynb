{
  "nbformat": 4,
  "nbformat_minor": 0,
  "metadata": {
    "colab": {
      "name": "PAN21_Exp_ Spanish.ipynb",
      "provenance": [],
      "collapsed_sections": [],
      "authorship_tag": "ABX9TyMZOJkOEwlV1C1ikpVjvB79",
      "include_colab_link": true
    },
    "kernelspec": {
      "name": "python3",
      "display_name": "Python 3"
    },
    "language_info": {
      "name": "python"
    },
    "accelerator": "GPU"
  },
  "cells": [
    {
      "cell_type": "markdown",
      "metadata": {
        "id": "view-in-github",
        "colab_type": "text"
      },
      "source": [
        "<a href=\"https://colab.research.google.com/github/kaodamie/PAN-CLEF---Profilling-Hate-Spreaders-on-Twiter/blob/main/PAN21_Exp__Spanish.ipynb\" target=\"_parent\"><img src=\"https://colab.research.google.com/assets/colab-badge.svg\" alt=\"Open In Colab\"/></a>"
      ]
    },
    {
      "cell_type": "code",
      "metadata": {
        "colab": {
          "base_uri": "https://localhost:8080/"
        },
        "id": "JnP_IHyntErc",
        "outputId": "7f836b5a-3438-4bb0-d643-5f3171479ab9"
      },
      "source": [
        "pip install -q tensorflow-text"
      ],
      "execution_count": null,
      "outputs": [
        {
          "output_type": "stream",
          "text": [
            "\u001b[K     |████████████████████████████████| 3.4MB 8.8MB/s \n",
            "\u001b[?25h"
          ],
          "name": "stdout"
        }
      ]
    },
    {
      "cell_type": "code",
      "metadata": {
        "colab": {
          "base_uri": "https://localhost:8080/"
        },
        "id": "MXpvfXe6tQDG",
        "outputId": "7f445b68-d0b8-4768-ccd1-e77d2edf2f60"
      },
      "source": [
        "pip install -q tf-models-official"
      ],
      "execution_count": null,
      "outputs": [
        {
          "output_type": "stream",
          "text": [
            "\u001b[K     |████████████████████████████████| 1.1MB 8.4MB/s \n",
            "\u001b[K     |████████████████████████████████| 37.6MB 1.3MB/s \n",
            "\u001b[K     |████████████████████████████████| 706kB 45.3MB/s \n",
            "\u001b[K     |████████████████████████████████| 174kB 45.1MB/s \n",
            "\u001b[K     |████████████████████████████████| 51kB 6.0MB/s \n",
            "\u001b[K     |████████████████████████████████| 1.2MB 37.8MB/s \n",
            "\u001b[K     |████████████████████████████████| 358kB 41.3MB/s \n",
            "\u001b[K     |████████████████████████████████| 102kB 10.5MB/s \n",
            "\u001b[K     |████████████████████████████████| 645kB 39.6MB/s \n",
            "\u001b[?25h  Building wheel for seqeval (setup.py) ... \u001b[?25l\u001b[?25hdone\n",
            "  Building wheel for py-cpuinfo (setup.py) ... \u001b[?25l\u001b[?25hdone\n"
          ],
          "name": "stdout"
        }
      ]
    },
    {
      "cell_type": "code",
      "metadata": {
        "colab": {
          "base_uri": "https://localhost:8080/"
        },
        "id": "J-xnPbdTtTQq",
        "outputId": "0fd584a6-12e7-408f-ff36-8742e563e62c"
      },
      "source": [
        "from google.colab import drive\n",
        "drive.mount('/content/drive')"
      ],
      "execution_count": null,
      "outputs": [
        {
          "output_type": "stream",
          "text": [
            "Mounted at /content/drive\n"
          ],
          "name": "stdout"
        }
      ]
    },
    {
      "cell_type": "code",
      "metadata": {
        "id": "CoLy_zystYYh"
      },
      "source": [
        "import pandas as pd\n",
        "import os \n",
        "import xml.etree.ElementTree as ET\n",
        "import numpy as np\n",
        "import matplotlib.pyplot as mpl\n",
        "from sklearn.preprocessing import scale\n",
        "from sklearn.model_selection import train_test_split\n",
        "import tensorflow as tf\n",
        "from tensorflow.keras import datasets, layers, models\n",
        "from tensorflow.keras.callbacks import ModelCheckpoint, EarlyStopping\n",
        "from tensorflow import feature_column\n",
        "%matplotlib inline\n",
        "import matplotlib.pyplot as plt\n",
        "import seaborn as sns; sns.set()\n",
        "import shutil\n",
        "import tensorflow_hub as hub\n",
        "import tensorflow_text as text\n",
        "from official.nlp import optimization \n",
        "tf.get_logger().setLevel('ERROR')\n",
        "\n",
        "name=r'/content/drive/MyDrive/Dataset/pan21-author-profiling-training-2021-03-14/es//'\n",
        "\n",
        "xml_text=[]\n",
        "list_filenames=[]\n",
        "for file in os.listdir(name):\n",
        "        filename = os.fsdecode(file)\n",
        "        \n",
        "        if filename.endswith('.xml'):\n",
        "#             print(filename)   \n",
        "            list_filenames.append(filename.split(sep='.')[0])\n",
        "            try:\n",
        "                tree = ET.parse(name+file) \n",
        "                root =tree.getroot() \n",
        "                xml_document=[]\n",
        "                for neighbor in root.iter('document'):\n",
        "                    xml_document.append(neighbor.text)\n",
        "                     \n",
        "                    #print(xml_document)\n",
        "#                 print('\\n\\n')\n",
        "                xml_text.append(\" \".join(xml_document))\n",
        "            except Exception as e:\n",
        "                print(e, name+file)\n",
        "#                 display(e, folder+file)\n",
        "        \n",
        "        elif filename.endswith('txt'):\n",
        "            fileObject = open(name+file)\n",
        "            data = fileObject.read().splitlines()\n",
        "            dat=[]\n",
        "            for i in data:\n",
        "                dat.append(i.split(sep=':::'))\n",
        "                "
      ],
      "execution_count": null,
      "outputs": []
    },
    {
      "cell_type": "code",
      "metadata": {
        "colab": {
          "base_uri": "https://localhost:8080/"
        },
        "id": "EVqsmhEeteZ-",
        "outputId": "8cde2261-4be3-4c55-968b-9df38d0592d1"
      },
      "source": [
        "df1=pd.DataFrame(zip(list_filenames,xml_text),columns=('ids','xml_text')).set_index('ids').join(pd.DataFrame(dat,columns=('ids','labels')).set_index(['ids']))\n",
        "# v=pd.DataFrame(dat)\n",
        "# v['xml'] =xml_text\n",
        "\n",
        "\n",
        "# in future make a k-fold cross validation with sklearn\n",
        "train, test = train_test_split(df1, test_size=0.2)\n",
        "val, test = train_test_split(test, test_size=0.2)\n",
        "print(len(train), 'train examples')\n",
        "print(len(val), 'validation examples')\n",
        "print(len(test), 'test examples')\n",
        "\n",
        "train_ds=train['xml_text'].astype(str).to_numpy()\n",
        "val_ds=val['xml_text'].astype(str).to_numpy()\n",
        "\n",
        "whole_dataset=df1['xml_text'].astype(str).to_numpy()\n",
        "whole_labels=df1['labels'].astype(int).to_numpy()\n",
        "\n",
        "train_labels=train['labels'].astype(int).to_numpy()\n",
        "val_labels=val['labels'].astype(int).to_numpy()"
      ],
      "execution_count": null,
      "outputs": [
        {
          "output_type": "stream",
          "text": [
            "160 train examples\n",
            "32 validation examples\n",
            "8 test examples\n"
          ],
          "name": "stdout"
        }
      ]
    },
    {
      "cell_type": "code",
      "metadata": {
        "id": "QnPbgXCwuCEN"
      },
      "source": [
        "BATCH_SIZE = 32\n",
        "AUTOTUNE = tf.data.AUTOTUNE\n",
        "\n",
        "train_ds = tf.data.Dataset.from_tensor_slices((train_ds,train_labels))\n",
        "valid_ds = tf.data.Dataset.from_tensor_slices((val_ds,val_labels))\n",
        "\n",
        "whole_ds=tf.data.Dataset.from_tensor_slices((whole_dataset,whole_labels))\n",
        "\n",
        "train_ds = train_ds.batch(BATCH_SIZE)\n",
        "valid_ds = valid_ds.batch(BATCH_SIZE)\n",
        "\n",
        "# PREFETCH\n",
        "\n",
        "train_ds = train_ds.shuffle(5).prefetch(buffer_size=AUTOTUNE)\n",
        "valid_ds = valid_ds.shuffle(5).prefetch(buffer_size=AUTOTUNE)\n",
        "whole_ds=whole_ds.shuffle(5).prefetch(buffer_size=AUTOTUNE)"
      ],
      "execution_count": null,
      "outputs": []
    },
    {
      "cell_type": "code",
      "metadata": {
        "id": "Yh6CV76ve_i_"
      },
      "source": [
        "#google sentence encoder classifier\n",
        "def build_classifier_model():\n",
        "  text_input = tf.keras.layers.Input(shape=(), dtype=tf.string, name='text')\n",
        "  preprocessing_layer = hub.KerasLayer(\n",
        "    \"https://tfhub.dev/google/universal-sentence-encoder-cmlm/multilingual-preprocess/2\",name='preprocessing')\n",
        "  encoder_inputs = preprocessing_layer(text_input) \n",
        "  encoder = hub.KerasLayer(\"https://tfhub.dev/google/LaBSE/2\",name='encoder')\n",
        "\n",
        "  outputs = encoder(encoder_inputs)\n",
        "  net = outputs['pooled_output']\n",
        "  net = tf.keras.layers.Dropout(0.1)(net)\n",
        "  # net = tf.keras.layers.Conv1D(1,1)(net)\n",
        "  # net = tf.keras.layers.Flatten()(net)\n",
        "  # net = tf.keras.layers.Activation('softmax')(net)\n",
        "  # net = tf.keras.layers.Dropout(0.1)(net) \n",
        "  # net = tf.keras.layers.Conv1D(1,1)(net)\n",
        "  # net = tf.keras.layers.Flatten()(net)\n",
        "  # x2 = tf.keras.layers.Activation('softmax')(net)\n",
        "  net = tf.keras.layers.Dense(1, activation=None, name='classifier')(net)\n",
        "  return tf.keras.Model(text_input, net)"
      ],
      "execution_count": null,
      "outputs": []
    },
    {
      "cell_type": "code",
      "metadata": {
        "id": "HgjmEo2JxVVe"
      },
      "source": [
        "classifier_model = build_classifier_model()"
      ],
      "execution_count": null,
      "outputs": []
    },
    {
      "cell_type": "code",
      "metadata": {
        "id": "yKb3KJD7wNlg"
      },
      "source": [
        "classifier_model.compile(optimizer='adam',\n",
        "                         loss=tf.keras.losses.BinaryCrossentropy(from_logits=True),\n",
        "                         metrics=tf.metrics.BinaryAccuracy())\n",
        "\n",
        "mcp_save = ModelCheckpoint('multi_sentence_encoder.h5', save_best_only=True, monitor='val_loss', mode='min')\n",
        "early_stop=EarlyStopping(monitor='val_loss', patience=3, verbose=1)"
      ],
      "execution_count": null,
      "outputs": []
    },
    {
      "cell_type": "code",
      "metadata": {
        "colab": {
          "base_uri": "https://localhost:8080/"
        },
        "id": "bklKmqxcwhJ9",
        "outputId": "443d43cd-9834-47a1-c30d-226508204e01"
      },
      "source": [
        "#print(f'Training model with {tfhub_handle_encoder}')\n",
        "history = classifier_model.fit(train_ds,\n",
        "                               validation_data=valid_ds,\n",
        "                               epochs=10,callbacks=[mcp_save, early_stop], verbose=1)\n",
        "\n",
        "#running with just adam was better than adamw /sentence encoder"
      ],
      "execution_count": null,
      "outputs": [
        {
          "output_type": "stream",
          "text": [
            "Epoch 1/10\n",
            "5/5 [==============================] - 62s 11s/step - loss: 0.6904 - binary_accuracy: 0.4963 - val_loss: 0.6819 - val_binary_accuracy: 0.4688\n",
            "Epoch 2/10\n",
            "5/5 [==============================] - 51s 11s/step - loss: 0.6516 - binary_accuracy: 0.5322 - val_loss: 0.6555 - val_binary_accuracy: 0.5312\n",
            "Epoch 3/10\n",
            "5/5 [==============================] - 51s 11s/step - loss: 0.6356 - binary_accuracy: 0.5208 - val_loss: 0.6391 - val_binary_accuracy: 0.5625\n",
            "Epoch 4/10\n",
            "5/5 [==============================] - 51s 11s/step - loss: 0.6161 - binary_accuracy: 0.5963 - val_loss: 0.6294 - val_binary_accuracy: 0.5312\n",
            "Epoch 5/10\n",
            "5/5 [==============================] - 51s 11s/step - loss: 0.6130 - binary_accuracy: 0.5776 - val_loss: 0.6216 - val_binary_accuracy: 0.5312\n",
            "Epoch 6/10\n",
            "5/5 [==============================] - 51s 11s/step - loss: 0.5845 - binary_accuracy: 0.5843 - val_loss: 0.6172 - val_binary_accuracy: 0.5312\n",
            "Epoch 7/10\n",
            "5/5 [==============================] - 51s 11s/step - loss: 0.5790 - binary_accuracy: 0.5885 - val_loss: 0.6113 - val_binary_accuracy: 0.5312\n",
            "Epoch 8/10\n",
            "5/5 [==============================] - 51s 11s/step - loss: 0.5363 - binary_accuracy: 0.6543 - val_loss: 0.6064 - val_binary_accuracy: 0.5312\n",
            "Epoch 9/10\n",
            "5/5 [==============================] - 51s 11s/step - loss: 0.5327 - binary_accuracy: 0.6427 - val_loss: 0.5953 - val_binary_accuracy: 0.5625\n",
            "Epoch 10/10\n",
            "5/5 [==============================] - 51s 11s/step - loss: 0.5221 - binary_accuracy: 0.7066 - val_loss: 0.5866 - val_binary_accuracy: 0.5625\n"
          ],
          "name": "stdout"
        }
      ]
    },
    {
      "cell_type": "code",
      "metadata": {
        "colab": {
          "base_uri": "https://localhost:8080/"
        },
        "id": "T7HccyAwjE2d",
        "outputId": "5ca5b86e-5626-4cae-9da1-61f47b58dcdf"
      },
      "source": [
        "# classifier_model.save('/content/drive/MyDrive/Dataset/PanResults/es')"
      ],
      "execution_count": null,
      "outputs": [
        {
          "output_type": "stream",
          "text": [
            "WARNING:absl:Found untraced functions such as restored_function_body, restored_function_body, restored_function_body, restored_function_body, restored_function_body while saving (showing 5 of 900). These functions will not be directly callable after loading.\n",
            "WARNING:absl:Found untraced functions such as restored_function_body, restored_function_body, restored_function_body, restored_function_body, restored_function_body while saving (showing 5 of 900). These functions will not be directly callable after loading.\n"
          ],
          "name": "stderr"
        }
      ]
    },
    {
      "cell_type": "code",
      "metadata": {
        "id": "2rm_272enaIr"
      },
      "source": [
        "reloaded=tf.saved_model.load('/content/drive/MyDrive/Dataset/PanResults/es_savedmodel')"
      ],
      "execution_count": null,
      "outputs": []
    },
    {
      "cell_type": "code",
      "metadata": {
        "colab": {
          "base_uri": "https://localhost:8080/"
        },
        "id": "j0Gidtuen0dg",
        "outputId": "d78906b1-47c4-467d-bd42-58d57e828ed3"
      },
      "source": [
        "reloaded"
      ],
      "execution_count": null,
      "outputs": [
        {
          "output_type": "execute_result",
          "data": {
            "text/plain": [
              "<tensorflow.python.saved_model.load.Loader._recreate_base_user_object.<locals>._UserObject at 0x7f6a196e2610>"
            ]
          },
          "metadata": {
            "tags": []
          },
          "execution_count": 30
        }
      ]
    },
    {
      "cell_type": "code",
      "metadata": {
        "colab": {
          "base_uri": "https://localhost:8080/"
        },
        "id": "agCRaD5Cjfya",
        "outputId": "cf8e238c-de41-4cdb-a540-2afdbcf7bfb7"
      },
      "source": [
        "train_loss, train_acc = classifier_model.evaluate(train_ds, verbose=1)\n",
        "validation_loss, validation_acc =classifier_model.evaluate(valid_ds, verbose=1)"
      ],
      "execution_count": null,
      "outputs": [
        {
          "output_type": "stream",
          "text": [
            "5/5 [==============================] - 43s 8s/step - loss: 0.5212 - binary_accuracy: 0.7000\n",
            "1/1 [==============================] - 9s 9s/step - loss: 0.5866 - binary_accuracy: 0.5625\n"
          ],
          "name": "stdout"
        }
      ]
    },
    {
      "cell_type": "code",
      "metadata": {
        "colab": {
          "base_uri": "https://localhost:8080/"
        },
        "id": "1g_YRAc1j_-C",
        "outputId": "0a5ef003-9cd6-4121-bda8-cc4da9b2556f"
      },
      "source": [
        "print('* Accuracy on training set: %0.2f%%' % (100 * train_acc))\n",
        "print('* Accuracy on validation set: %0.2f%%' % (100 * validation_acc))"
      ],
      "execution_count": null,
      "outputs": [
        {
          "output_type": "stream",
          "text": [
            "* Accuracy on training set: 47.50%\n",
            "* Accuracy on validation set: 62.50%\n"
          ],
          "name": "stdout"
        }
      ]
    },
    {
      "cell_type": "code",
      "metadata": {
        "id": "ZtzKhAm838sY"
      },
      "source": [
        "\n",
        "results=tf.sigmoid(classifier_model(tf.constant(test['xml_text'])))\n",
        "\n",
        "\n",
        "results=tf.sigmoid(reloaded(tf.constant(test['xml_text'])))\n",
        "#test_results=round()"
      ],
      "execution_count": null,
      "outputs": []
    },
    {
      "cell_type": "code",
      "metadata": {
        "id": "M3brkvJ-4moM"
      },
      "source": [
        "test['results']=results.numpy()"
      ],
      "execution_count": null,
      "outputs": []
    },
    {
      "cell_type": "code",
      "metadata": {
        "colab": {
          "base_uri": "https://localhost:8080/",
          "height": 328
        },
        "id": "lK-a5FTw6fV5",
        "outputId": "9b4dd19b-30ca-4546-9251-dfacbbbdcb1e"
      },
      "source": [
        "#  a sample testset after shuffling\n",
        "test \n"
      ],
      "execution_count": null,
      "outputs": [
        {
          "output_type": "execute_result",
          "data": {
            "text/html": [
              "<div>\n",
              "<style scoped>\n",
              "    .dataframe tbody tr th:only-of-type {\n",
              "        vertical-align: middle;\n",
              "    }\n",
              "\n",
              "    .dataframe tbody tr th {\n",
              "        vertical-align: top;\n",
              "    }\n",
              "\n",
              "    .dataframe thead th {\n",
              "        text-align: right;\n",
              "    }\n",
              "</style>\n",
              "<table border=\"1\" class=\"dataframe\">\n",
              "  <thead>\n",
              "    <tr style=\"text-align: right;\">\n",
              "      <th></th>\n",
              "      <th>xml_text</th>\n",
              "      <th>labels</th>\n",
              "      <th>results</th>\n",
              "    </tr>\n",
              "    <tr>\n",
              "      <th>ids</th>\n",
              "      <th></th>\n",
              "      <th></th>\n",
              "      <th></th>\n",
              "    </tr>\n",
              "  </thead>\n",
              "  <tbody>\n",
              "    <tr>\n",
              "      <th>55225a39f4d2affd7494625a26f7dab2</th>\n",
              "      <td>y bueno fumando uno de los mios La verdad que ...</td>\n",
              "      <td>0</td>\n",
              "      <td>0.087965</td>\n",
              "    </tr>\n",
              "    <tr>\n",
              "      <th>9901087f781c97976d8af765bb14f80e</th>\n",
              "      <td>#USER# #USER# Dieta super calórica. #URL# #USE...</td>\n",
              "      <td>0</td>\n",
              "      <td>0.360244</td>\n",
              "    </tr>\n",
              "    <tr>\n",
              "      <th>6e3b4f88ca38d04437d315e3ec6e691f</th>\n",
              "      <td>RT #USER#: #USER# Asesinado por los mismos per...</td>\n",
              "      <td>1</td>\n",
              "      <td>0.626484</td>\n",
              "    </tr>\n",
              "    <tr>\n",
              "      <th>fa5be6e6c139255df5fabafa5812a062</th>\n",
              "      <td>RT #USER#: a dormir y recuerden que barovero l...</td>\n",
              "      <td>0</td>\n",
              "      <td>0.482056</td>\n",
              "    </tr>\n",
              "    <tr>\n",
              "      <th>20485577456acd57453192424391aae3</th>\n",
              "      <td>A uno lo creen como marica, mor dale que no me...</td>\n",
              "      <td>0</td>\n",
              "      <td>0.244713</td>\n",
              "    </tr>\n",
              "    <tr>\n",
              "      <th>fa1a735295b654d2fceeead34dd71d96</th>\n",
              "      <td>#USER# Desde arrimadas, ninguno. 🤔 ⁉️¿Por qué ...</td>\n",
              "      <td>1</td>\n",
              "      <td>0.744429</td>\n",
              "    </tr>\n",
              "    <tr>\n",
              "      <th>d0feaf7314acfc9272b75f936e12de3c</th>\n",
              "      <td>Esto es ya el colmo de los colmos. #URL# Cuand...</td>\n",
              "      <td>1</td>\n",
              "      <td>0.441626</td>\n",
              "    </tr>\n",
              "    <tr>\n",
              "      <th>0cc24f8fbc79eaf6dae74b1d42e365da</th>\n",
              "      <td>RT #USER#: Felices 119 años, #USER#. Historia ...</td>\n",
              "      <td>1</td>\n",
              "      <td>0.616704</td>\n",
              "    </tr>\n",
              "  </tbody>\n",
              "</table>\n",
              "</div>"
            ],
            "text/plain": [
              "                                                                           xml_text  ...   results\n",
              "ids                                                                                  ...          \n",
              "55225a39f4d2affd7494625a26f7dab2  y bueno fumando uno de los mios La verdad que ...  ...  0.087965\n",
              "9901087f781c97976d8af765bb14f80e  #USER# #USER# Dieta super calórica. #URL# #USE...  ...  0.360244\n",
              "6e3b4f88ca38d04437d315e3ec6e691f  RT #USER#: #USER# Asesinado por los mismos per...  ...  0.626484\n",
              "fa5be6e6c139255df5fabafa5812a062  RT #USER#: a dormir y recuerden que barovero l...  ...  0.482056\n",
              "20485577456acd57453192424391aae3  A uno lo creen como marica, mor dale que no me...  ...  0.244713\n",
              "fa1a735295b654d2fceeead34dd71d96  #USER# Desde arrimadas, ninguno. 🤔 ⁉️¿Por qué ...  ...  0.744429\n",
              "d0feaf7314acfc9272b75f936e12de3c  Esto es ya el colmo de los colmos. #URL# Cuand...  ...  0.441626\n",
              "0cc24f8fbc79eaf6dae74b1d42e365da  RT #USER#: Felices 119 años, #USER#. Historia ...  ...  0.616704\n",
              "\n",
              "[8 rows x 3 columns]"
            ]
          },
          "metadata": {
            "tags": []
          },
          "execution_count": 9
        }
      ]
    },
    {
      "cell_type": "code",
      "metadata": {
        "colab": {
          "base_uri": "https://localhost:8080/",
          "height": 328
        },
        "id": "SsxQJJ8p4pMW",
        "outputId": "b67faed2-0207-41f1-de30-02cbd034c91a"
      },
      "source": [
        "# another sample test after shuffling\n",
        "test"
      ],
      "execution_count": null,
      "outputs": [
        {
          "output_type": "execute_result",
          "data": {
            "text/html": [
              "<div>\n",
              "<style scoped>\n",
              "    .dataframe tbody tr th:only-of-type {\n",
              "        vertical-align: middle;\n",
              "    }\n",
              "\n",
              "    .dataframe tbody tr th {\n",
              "        vertical-align: top;\n",
              "    }\n",
              "\n",
              "    .dataframe thead th {\n",
              "        text-align: right;\n",
              "    }\n",
              "</style>\n",
              "<table border=\"1\" class=\"dataframe\">\n",
              "  <thead>\n",
              "    <tr style=\"text-align: right;\">\n",
              "      <th></th>\n",
              "      <th>xml_text</th>\n",
              "      <th>labels</th>\n",
              "      <th>results</th>\n",
              "    </tr>\n",
              "    <tr>\n",
              "      <th>ids</th>\n",
              "      <th></th>\n",
              "      <th></th>\n",
              "      <th></th>\n",
              "    </tr>\n",
              "  </thead>\n",
              "  <tbody>\n",
              "    <tr>\n",
              "      <th>b64385c12fad39e73e7018da60161db6</th>\n",
              "      <td>RT #USER#: ....vamos juntos a por los 75.........</td>\n",
              "      <td>1</td>\n",
              "      <td>0.600600</td>\n",
              "    </tr>\n",
              "    <tr>\n",
              "      <th>a802b5de3017f496053306f6d8be96b9</th>\n",
              "      <td>#USER# #USER# comparto cani ajajsjdhhshaajaj o...</td>\n",
              "      <td>0</td>\n",
              "      <td>0.400364</td>\n",
              "    </tr>\n",
              "    <tr>\n",
              "      <th>0af3ad19d2571df4cbca1948aba1019e</th>\n",
              "      <td>#USER# magnífico su resumen de esta semana 👏👏👏...</td>\n",
              "      <td>0</td>\n",
              "      <td>0.647418</td>\n",
              "    </tr>\n",
              "    <tr>\n",
              "      <th>b335bf6f5f8eda9979c489f28c3f48bc</th>\n",
              "      <td>RT #USER#: Gracias #USER# ! Gracias #USER# ! G...</td>\n",
              "      <td>0</td>\n",
              "      <td>0.383249</td>\n",
              "    </tr>\n",
              "    <tr>\n",
              "      <th>43a1b25e0fac45a86b5db1214e52fa28</th>\n",
              "      <td>#USER# Buena idea así revientan todos los Gori...</td>\n",
              "      <td>1</td>\n",
              "      <td>0.635178</td>\n",
              "    </tr>\n",
              "    <tr>\n",
              "      <th>59d66379e5c9b4a089c7d31e916a4c31</th>\n",
              "      <td>RT #USER#: makoke todos estamos contigo! Y sin...</td>\n",
              "      <td>0</td>\n",
              "      <td>0.577879</td>\n",
              "    </tr>\n",
              "    <tr>\n",
              "      <th>20485577456acd57453192424391aae3</th>\n",
              "      <td>A uno lo creen como marica, mor dale que no me...</td>\n",
              "      <td>0</td>\n",
              "      <td>0.244713</td>\n",
              "    </tr>\n",
              "    <tr>\n",
              "      <th>b523abc590889dfaf69a1c8470ef314d</th>\n",
              "      <td>RT #USER#: - Sentite como en tu casa - Bueno m...</td>\n",
              "      <td>0</td>\n",
              "      <td>0.208792</td>\n",
              "    </tr>\n",
              "  </tbody>\n",
              "</table>\n",
              "</div>"
            ],
            "text/plain": [
              "                                                                           xml_text  ...   results\n",
              "ids                                                                                  ...          \n",
              "b64385c12fad39e73e7018da60161db6  RT #USER#: ....vamos juntos a por los 75.........  ...  0.600600\n",
              "a802b5de3017f496053306f6d8be96b9  #USER# #USER# comparto cani ajajsjdhhshaajaj o...  ...  0.400364\n",
              "0af3ad19d2571df4cbca1948aba1019e  #USER# magnífico su resumen de esta semana 👏👏👏...  ...  0.647418\n",
              "b335bf6f5f8eda9979c489f28c3f48bc  RT #USER#: Gracias #USER# ! Gracias #USER# ! G...  ...  0.383249\n",
              "43a1b25e0fac45a86b5db1214e52fa28  #USER# Buena idea así revientan todos los Gori...  ...  0.635178\n",
              "59d66379e5c9b4a089c7d31e916a4c31  RT #USER#: makoke todos estamos contigo! Y sin...  ...  0.577879\n",
              "20485577456acd57453192424391aae3  A uno lo creen como marica, mor dale que no me...  ...  0.244713\n",
              "b523abc590889dfaf69a1c8470ef314d  RT #USER#: - Sentite como en tu casa - Bueno m...  ...  0.208792\n",
              "\n",
              "[8 rows x 3 columns]"
            ]
          },
          "metadata": {
            "tags": []
          },
          "execution_count": 33
        }
      ]
    },
    {
      "cell_type": "code",
      "metadata": {
        "id": "75dqqC1YfNWZ"
      },
      "source": [
        "#working with the actual test data\n",
        "name=r'/content/drive/MyDrive/Dataset/pan21-author-profiling-test-without-gold/es//'\n",
        "\n",
        "xml_text=[]\n",
        "list_filenames=[]\n",
        "for file in os.listdir(name):\n",
        "        filename = os.fsdecode(file)\n",
        "        \n",
        "        if filename.endswith('.xml'):\n",
        "#             print(filename)   \n",
        "            list_filenames.append(filename.split(sep='.')[0])\n",
        "            try:\n",
        "                tree = ET.parse(name+file) \n",
        "                root =tree.getroot() \n",
        "                xml_document=[]\n",
        "                for neighbor in root.iter('document'):\n",
        "                    xml_document.append(neighbor.text)\n",
        "                     \n",
        "                    #print(xml_document)\n",
        "#                 print('\\n\\n')\n",
        "                xml_text.append(\" \".join(xml_document))\n",
        "            except Exception as e:\n",
        "                print(e, name+file)\n",
        "#                 display(e, folder+file)"
      ],
      "execution_count": null,
      "outputs": []
    },
    {
      "cell_type": "code",
      "metadata": {
        "id": "N_AkIxAIfnLq"
      },
      "source": [
        "df2=pd.DataFrame(zip(list_filenames,xml_text),columns=('ids','xml_text')).set_index('ids')"
      ],
      "execution_count": null,
      "outputs": []
    },
    {
      "cell_type": "code",
      "metadata": {
        "colab": {
          "base_uri": "https://localhost:8080/",
          "height": 450
        },
        "id": "U2iz3z5lhdQB",
        "outputId": "a3b27b65-44ca-4dfb-9498-54ab3c914035"
      },
      "source": [
        "df2"
      ],
      "execution_count": null,
      "outputs": [
        {
          "output_type": "execute_result",
          "data": {
            "text/html": [
              "<div>\n",
              "<style scoped>\n",
              "    .dataframe tbody tr th:only-of-type {\n",
              "        vertical-align: middle;\n",
              "    }\n",
              "\n",
              "    .dataframe tbody tr th {\n",
              "        vertical-align: top;\n",
              "    }\n",
              "\n",
              "    .dataframe thead th {\n",
              "        text-align: right;\n",
              "    }\n",
              "</style>\n",
              "<table border=\"1\" class=\"dataframe\">\n",
              "  <thead>\n",
              "    <tr style=\"text-align: right;\">\n",
              "      <th></th>\n",
              "      <th>xml_text</th>\n",
              "    </tr>\n",
              "    <tr>\n",
              "      <th>ids</th>\n",
              "      <th></th>\n",
              "    </tr>\n",
              "  </thead>\n",
              "  <tbody>\n",
              "    <tr>\n",
              "      <th>290a1bab7de4d014773e389b37375586</th>\n",
              "      <td>RT #USER#: El \"pacto histórico\" a esta hora. #...</td>\n",
              "    </tr>\n",
              "    <tr>\n",
              "      <th>1b95d9df96f463fb405d9718da1798fe</th>\n",
              "      <td>Se escribe viernes y se pronuncia al fin. #USE...</td>\n",
              "    </tr>\n",
              "    <tr>\n",
              "      <th>03263875c28c5e589409ab4ee1d18c2f</th>\n",
              "      <td>ee lo del concierto d ahora se puede ver por t...</td>\n",
              "    </tr>\n",
              "    <tr>\n",
              "      <th>03b9385278a1ec7bdf7e5775c138d7a0</th>\n",
              "      <td>Esto es: podemos organizarnos como proletariad...</td>\n",
              "    </tr>\n",
              "    <tr>\n",
              "      <th>0373317cba1543d5976c3a2cc2f92a79</th>\n",
              "      <td>#USER# #USER# #USER# 11 seguidores, eres pejeb...</td>\n",
              "    </tr>\n",
              "    <tr>\n",
              "      <th>...</th>\n",
              "      <td>...</td>\n",
              "    </tr>\n",
              "    <tr>\n",
              "      <th>ee15094987298282e6fe8f093cdf4d94</th>\n",
              "      <td>#USER# #USER# Cómeme los huevos, subnormal Soi...</td>\n",
              "    </tr>\n",
              "    <tr>\n",
              "      <th>fe3bd38287e375e1a3b61a1649837669</th>\n",
              "      <td>#USER# Era parte de la estrategia de forestal ...</td>\n",
              "    </tr>\n",
              "    <tr>\n",
              "      <th>d4161c2729e99219f215ff98f4ad9793</th>\n",
              "      <td>RT #USER#: ¿Se deberían convocar elecciones cu...</td>\n",
              "    </tr>\n",
              "    <tr>\n",
              "      <th>dbf00d94f669373f0bdec17cc89e363c</th>\n",
              "      <td>#USER# #USER# #USER# Que vais a esperar de un ...</td>\n",
              "    </tr>\n",
              "    <tr>\n",
              "      <th>db2f1c456bef8b0ab7f3b460f390d88a</th>\n",
              "      <td>La regeneración era esto. #URL# #USER# Es tími...</td>\n",
              "    </tr>\n",
              "  </tbody>\n",
              "</table>\n",
              "<p>100 rows × 1 columns</p>\n",
              "</div>"
            ],
            "text/plain": [
              "                                                                           xml_text\n",
              "ids                                                                                \n",
              "290a1bab7de4d014773e389b37375586  RT #USER#: El \"pacto histórico\" a esta hora. #...\n",
              "1b95d9df96f463fb405d9718da1798fe  Se escribe viernes y se pronuncia al fin. #USE...\n",
              "03263875c28c5e589409ab4ee1d18c2f  ee lo del concierto d ahora se puede ver por t...\n",
              "03b9385278a1ec7bdf7e5775c138d7a0  Esto es: podemos organizarnos como proletariad...\n",
              "0373317cba1543d5976c3a2cc2f92a79  #USER# #USER# #USER# 11 seguidores, eres pejeb...\n",
              "...                                                                             ...\n",
              "ee15094987298282e6fe8f093cdf4d94  #USER# #USER# Cómeme los huevos, subnormal Soi...\n",
              "fe3bd38287e375e1a3b61a1649837669  #USER# Era parte de la estrategia de forestal ...\n",
              "d4161c2729e99219f215ff98f4ad9793  RT #USER#: ¿Se deberían convocar elecciones cu...\n",
              "dbf00d94f669373f0bdec17cc89e363c  #USER# #USER# #USER# Que vais a esperar de un ...\n",
              "db2f1c456bef8b0ab7f3b460f390d88a  La regeneración era esto. #URL# #USER# Es tími...\n",
              "\n",
              "[100 rows x 1 columns]"
            ]
          },
          "metadata": {
            "tags": []
          },
          "execution_count": 12
        }
      ]
    },
    {
      "cell_type": "code",
      "metadata": {
        "id": "mpbviI0Dh4oB"
      },
      "source": [
        "# if reusing saved model, \n",
        "test_results=tf.sigmoid(reloaded(tf.constant(df2['xml_text'])))\n",
        "\n",
        "# if not reusing saved model then comment out top\n",
        "test_results=tf.sigmoid(classifier_model(tf.constant(df2['xml_text'])))"
      ],
      "execution_count": null,
      "outputs": []
    },
    {
      "cell_type": "code",
      "metadata": {
        "colab": {
          "base_uri": "https://localhost:8080/"
        },
        "id": "2GSq2uAJfwCq",
        "outputId": "b3bf77c9-f394-48d5-932e-9ab508850892"
      },
      "source": [
        "for i in range(len(df2['xml_text'])):\n",
        "  print(f'{df2.index[i]}: {round(test_results[i][0].numpy())}')\n",
        "  root = ET.Element('author', id=df2.index[i],lang='es',type=f'{round(test_results[i][0].numpy())}')\n",
        "  s = ET.tostring(root)\n",
        "  print(str(s)) \n",
        "  tree = ET.ElementTree(root)\n",
        "  # change directory\n",
        "  tree.write(\"/content/drive/MyDrive/Dataset/PanResults/Test_Results/es/%s.xml\" %df2.index[i])"
      ],
      "execution_count": null,
      "outputs": [
        {
          "output_type": "stream",
          "text": [
            "290a1bab7de4d014773e389b37375586: 1\n",
            "b'<author id=\"290a1bab7de4d014773e389b37375586\" lang=\"es\" type=\"1\" />'\n",
            "1b95d9df96f463fb405d9718da1798fe: 1\n",
            "b'<author id=\"1b95d9df96f463fb405d9718da1798fe\" lang=\"es\" type=\"1\" />'\n",
            "03263875c28c5e589409ab4ee1d18c2f: 0\n",
            "b'<author id=\"03263875c28c5e589409ab4ee1d18c2f\" lang=\"es\" type=\"0\" />'\n",
            "03b9385278a1ec7bdf7e5775c138d7a0: 1\n",
            "b'<author id=\"03b9385278a1ec7bdf7e5775c138d7a0\" lang=\"es\" type=\"1\" />'\n",
            "0373317cba1543d5976c3a2cc2f92a79: 1\n",
            "b'<author id=\"0373317cba1543d5976c3a2cc2f92a79\" lang=\"es\" type=\"1\" />'\n",
            "19f3683f4f99dfa0de0e4e937e7e3f28: 0\n",
            "b'<author id=\"19f3683f4f99dfa0de0e4e937e7e3f28\" lang=\"es\" type=\"0\" />'\n",
            "0794ff63d194999ef7dfbb27fb67830c: 0\n",
            "b'<author id=\"0794ff63d194999ef7dfbb27fb67830c\" lang=\"es\" type=\"0\" />'\n",
            "15f18af6d4b4008f87be4bdc68898c23: 1\n",
            "b'<author id=\"15f18af6d4b4008f87be4bdc68898c23\" lang=\"es\" type=\"1\" />'\n",
            "1d6b3543165c1e22b7db4ecfb1fff4a4: 0\n",
            "b'<author id=\"1d6b3543165c1e22b7db4ecfb1fff4a4\" lang=\"es\" type=\"0\" />'\n",
            "17abfb488b6ca1cfc52310709d811de1: 1\n",
            "b'<author id=\"17abfb488b6ca1cfc52310709d811de1\" lang=\"es\" type=\"1\" />'\n",
            "1e8e213913f796e4114f2422fb97c532: 0\n",
            "b'<author id=\"1e8e213913f796e4114f2422fb97c532\" lang=\"es\" type=\"0\" />'\n",
            "26add9f0d7818961f984f889fb1d1f3f: 0\n",
            "b'<author id=\"26add9f0d7818961f984f889fb1d1f3f\" lang=\"es\" type=\"0\" />'\n",
            "0389ca1de412788fe6e2ad1aff9a37b2: 0\n",
            "b'<author id=\"0389ca1de412788fe6e2ad1aff9a37b2\" lang=\"es\" type=\"0\" />'\n",
            "18172d25b495577ee01fdf2101dcb3cd: 0\n",
            "b'<author id=\"18172d25b495577ee01fdf2101dcb3cd\" lang=\"es\" type=\"0\" />'\n",
            "1a08dc0ce59a97afaa09cb75fec56b7f: 1\n",
            "b'<author id=\"1a08dc0ce59a97afaa09cb75fec56b7f\" lang=\"es\" type=\"1\" />'\n",
            "2e57218e7912c49c1e68d508c5fb1eda: 0\n",
            "b'<author id=\"2e57218e7912c49c1e68d508c5fb1eda\" lang=\"es\" type=\"0\" />'\n",
            "0d1a59776b24ea8e8a924ddabf09ab14: 1\n",
            "b'<author id=\"0d1a59776b24ea8e8a924ddabf09ab14\" lang=\"es\" type=\"1\" />'\n",
            "04101a3c7a11a159e965fdeb048e9386: 0\n",
            "b'<author id=\"04101a3c7a11a159e965fdeb048e9386\" lang=\"es\" type=\"0\" />'\n",
            "03872a57faf2cf7eb3327e49b27d53bf: 0\n",
            "b'<author id=\"03872a57faf2cf7eb3327e49b27d53bf\" lang=\"es\" type=\"0\" />'\n",
            "41fb54bd2fec27cd09edd24b07c0902a: 1\n",
            "b'<author id=\"41fb54bd2fec27cd09edd24b07c0902a\" lang=\"es\" type=\"1\" />'\n",
            "356e6d8242cbd06f0522a9b048ca9fe3: 0\n",
            "b'<author id=\"356e6d8242cbd06f0522a9b048ca9fe3\" lang=\"es\" type=\"0\" />'\n",
            "3ba4d15387188355e0869fcab5b8f0d4: 1\n",
            "b'<author id=\"3ba4d15387188355e0869fcab5b8f0d4\" lang=\"es\" type=\"1\" />'\n",
            "40df1901733dcb1bcbc0d5d2e97b50f0: 1\n",
            "b'<author id=\"40df1901733dcb1bcbc0d5d2e97b50f0\" lang=\"es\" type=\"1\" />'\n",
            "7a2a659a74950efbe75c1e371307af93: 0\n",
            "b'<author id=\"7a2a659a74950efbe75c1e371307af93\" lang=\"es\" type=\"0\" />'\n",
            "34aea5b60fdc422a087818eb931efaee: 1\n",
            "b'<author id=\"34aea5b60fdc422a087818eb931efaee\" lang=\"es\" type=\"1\" />'\n",
            "5dea24c89ecb88224cc9a5a549c72954: 1\n",
            "b'<author id=\"5dea24c89ecb88224cc9a5a549c72954\" lang=\"es\" type=\"1\" />'\n",
            "3d6535ead17b2653c70059e7b7d5c2dd: 1\n",
            "b'<author id=\"3d6535ead17b2653c70059e7b7d5c2dd\" lang=\"es\" type=\"1\" />'\n",
            "7afbebbce5999ce61e4a6c1ca85a12c2: 1\n",
            "b'<author id=\"7afbebbce5999ce61e4a6c1ca85a12c2\" lang=\"es\" type=\"1\" />'\n",
            "2ef652b2e2f47ed37813af4eead72f2d: 1\n",
            "b'<author id=\"2ef652b2e2f47ed37813af4eead72f2d\" lang=\"es\" type=\"1\" />'\n",
            "46a89daf000cb6e2fd5e282c13c0a836: 0\n",
            "b'<author id=\"46a89daf000cb6e2fd5e282c13c0a836\" lang=\"es\" type=\"0\" />'\n",
            "76f7508d2a62cb19b62d422c6d04e87c: 1\n",
            "b'<author id=\"76f7508d2a62cb19b62d422c6d04e87c\" lang=\"es\" type=\"1\" />'\n",
            "7b5c34c0d03cf69dd4a4c1d753d5a7e6: 0\n",
            "b'<author id=\"7b5c34c0d03cf69dd4a4c1d753d5a7e6\" lang=\"es\" type=\"0\" />'\n",
            "5e815a8babe93a2e5ef4aef998017119: 1\n",
            "b'<author id=\"5e815a8babe93a2e5ef4aef998017119\" lang=\"es\" type=\"1\" />'\n",
            "335869e32becfc88c7d85eefa141540f: 1\n",
            "b'<author id=\"335869e32becfc88c7d85eefa141540f\" lang=\"es\" type=\"1\" />'\n",
            "305ff3d0cc125cd9552b8ff1aad5df46: 0\n",
            "b'<author id=\"305ff3d0cc125cd9552b8ff1aad5df46\" lang=\"es\" type=\"0\" />'\n",
            "516b34b970ec1e62ad77ac3cb674f8db: 0\n",
            "b'<author id=\"516b34b970ec1e62ad77ac3cb674f8db\" lang=\"es\" type=\"0\" />'\n",
            "38dcd0a9fa868600da9a09eb3026848e: 0\n",
            "b'<author id=\"38dcd0a9fa868600da9a09eb3026848e\" lang=\"es\" type=\"0\" />'\n",
            "563bc1a8c223603184c722006d6aa44f: 1\n",
            "b'<author id=\"563bc1a8c223603184c722006d6aa44f\" lang=\"es\" type=\"1\" />'\n",
            "5cd3e71439e942c65a65bc1d13a73dad: 0\n",
            "b'<author id=\"5cd3e71439e942c65a65bc1d13a73dad\" lang=\"es\" type=\"0\" />'\n",
            "52835836ab08ce198d4fdd73ddf4dc27: 0\n",
            "b'<author id=\"52835836ab08ce198d4fdd73ddf4dc27\" lang=\"es\" type=\"0\" />'\n",
            "6d3a4ae2f313acc5a70060e426d063f6: 0\n",
            "b'<author id=\"6d3a4ae2f313acc5a70060e426d063f6\" lang=\"es\" type=\"0\" />'\n",
            "73f102704b4638a58ad75a699221d0f8: 1\n",
            "b'<author id=\"73f102704b4638a58ad75a699221d0f8\" lang=\"es\" type=\"1\" />'\n",
            "3933fd031f1f8ccfc7f42dbec07cb65d: 1\n",
            "b'<author id=\"3933fd031f1f8ccfc7f42dbec07cb65d\" lang=\"es\" type=\"1\" />'\n",
            "488bd61e7feb16643e91ea91465a8ec6: 1\n",
            "b'<author id=\"488bd61e7feb16643e91ea91465a8ec6\" lang=\"es\" type=\"1\" />'\n",
            "78dc139860cb2a5258967a46f6150d65: 1\n",
            "b'<author id=\"78dc139860cb2a5258967a46f6150d65\" lang=\"es\" type=\"1\" />'\n",
            "582207a7385b11017d3d5fe34bcfe10a: 1\n",
            "b'<author id=\"582207a7385b11017d3d5fe34bcfe10a\" lang=\"es\" type=\"1\" />'\n",
            "652ecfa77cdd304a12306da2130b4658: 1\n",
            "b'<author id=\"652ecfa77cdd304a12306da2130b4658\" lang=\"es\" type=\"1\" />'\n",
            "69d556839af1b8b0756f1619a0178247: 0\n",
            "b'<author id=\"69d556839af1b8b0756f1619a0178247\" lang=\"es\" type=\"0\" />'\n",
            "99eae57cf6e826d6b1b5a3f10b1d5776: 1\n",
            "b'<author id=\"99eae57cf6e826d6b1b5a3f10b1d5776\" lang=\"es\" type=\"1\" />'\n",
            "c59f169ce7724ae4e0aec10d8740e950: 0\n",
            "b'<author id=\"c59f169ce7724ae4e0aec10d8740e950\" lang=\"es\" type=\"0\" />'\n",
            "a14e114af8e84a513f8ccd0beffe5fab: 0\n",
            "b'<author id=\"a14e114af8e84a513f8ccd0beffe5fab\" lang=\"es\" type=\"0\" />'\n",
            "abe6e4a4fc50deedd38a6ca576d95dad: 0\n",
            "b'<author id=\"abe6e4a4fc50deedd38a6ca576d95dad\" lang=\"es\" type=\"0\" />'\n",
            "b3822564232fb8ecb6f84896c91c6724: 0\n",
            "b'<author id=\"b3822564232fb8ecb6f84896c91c6724\" lang=\"es\" type=\"0\" />'\n",
            "92afc5162d6f654f5b3380a92366fcc9: 1\n",
            "b'<author id=\"92afc5162d6f654f5b3380a92366fcc9\" lang=\"es\" type=\"1\" />'\n",
            "83db3fbcd1e8c4ec15fe23b20552a616: 0\n",
            "b'<author id=\"83db3fbcd1e8c4ec15fe23b20552a616\" lang=\"es\" type=\"0\" />'\n",
            "a1b9a165993b71373aa35e5fe2114232: 1\n",
            "b'<author id=\"a1b9a165993b71373aa35e5fe2114232\" lang=\"es\" type=\"1\" />'\n",
            "c578cabd449057099798284cc7fa1511: 0\n",
            "b'<author id=\"c578cabd449057099798284cc7fa1511\" lang=\"es\" type=\"0\" />'\n",
            "b6e31de389da07af3d104bf991124b9a: 1\n",
            "b'<author id=\"b6e31de389da07af3d104bf991124b9a\" lang=\"es\" type=\"1\" />'\n",
            "8d9f8964b06e7dbda5426f0e5d2327ef: 0\n",
            "b'<author id=\"8d9f8964b06e7dbda5426f0e5d2327ef\" lang=\"es\" type=\"0\" />'\n",
            "937062ce540e211d24f98361f56862e4: 1\n",
            "b'<author id=\"937062ce540e211d24f98361f56862e4\" lang=\"es\" type=\"1\" />'\n",
            "944d10c5727c08e32550b73799530c15: 1\n",
            "b'<author id=\"944d10c5727c08e32550b73799530c15\" lang=\"es\" type=\"1\" />'\n",
            "824541632a28ecdfbe8512cb55aa8fb0: 1\n",
            "b'<author id=\"824541632a28ecdfbe8512cb55aa8fb0\" lang=\"es\" type=\"1\" />'\n",
            "bb1894ee025296ebd68a33f5273630a1: 1\n",
            "b'<author id=\"bb1894ee025296ebd68a33f5273630a1\" lang=\"es\" type=\"1\" />'\n",
            "c49c4082411d285bd068d3547c157ea4: 1\n",
            "b'<author id=\"c49c4082411d285bd068d3547c157ea4\" lang=\"es\" type=\"1\" />'\n",
            "99aa785ee99f0c77a9490bf66a63076c: 1\n",
            "b'<author id=\"99aa785ee99f0c77a9490bf66a63076c\" lang=\"es\" type=\"1\" />'\n",
            "9ab2238645b60951b9dbd6a53ad95d5f: 0\n",
            "b'<author id=\"9ab2238645b60951b9dbd6a53ad95d5f\" lang=\"es\" type=\"0\" />'\n",
            "8f6d5e43e5ab336ce3e377ca059c7bad: 1\n",
            "b'<author id=\"8f6d5e43e5ab336ce3e377ca059c7bad\" lang=\"es\" type=\"1\" />'\n",
            "93c8211c1936cf230cff482e23983b50: 1\n",
            "b'<author id=\"93c8211c1936cf230cff482e23983b50\" lang=\"es\" type=\"1\" />'\n",
            "ba594288087885eccdb3d6e2ac278552: 0\n",
            "b'<author id=\"ba594288087885eccdb3d6e2ac278552\" lang=\"es\" type=\"0\" />'\n",
            "7ec356fe562bbe3bc5e2fd6287a8e264: 1\n",
            "b'<author id=\"7ec356fe562bbe3bc5e2fd6287a8e264\" lang=\"es\" type=\"1\" />'\n",
            "7f7b300e651cc77897f265dff127bc06: 0\n",
            "b'<author id=\"7f7b300e651cc77897f265dff127bc06\" lang=\"es\" type=\"0\" />'\n",
            "ac9a50724120742299e42b11c875fe8c: 1\n",
            "b'<author id=\"ac9a50724120742299e42b11c875fe8c\" lang=\"es\" type=\"1\" />'\n",
            "ad426047147e04f1df6c19a57fcf4471: 0\n",
            "b'<author id=\"ad426047147e04f1df6c19a57fcf4471\" lang=\"es\" type=\"0\" />'\n",
            "9fed976f08267f1e9f87904aebf65e63: 1\n",
            "b'<author id=\"9fed976f08267f1e9f87904aebf65e63\" lang=\"es\" type=\"1\" />'\n",
            "986249816f04ecdce4684bb818236183: 0\n",
            "b'<author id=\"986249816f04ecdce4684bb818236183\" lang=\"es\" type=\"0\" />'\n",
            "9425eedee90cd411d89a6499328e8b3e: 1\n",
            "b'<author id=\"9425eedee90cd411d89a6499328e8b3e\" lang=\"es\" type=\"1\" />'\n",
            "82dad80968486ad44c11c4d182753a93: 0\n",
            "b'<author id=\"82dad80968486ad44c11c4d182753a93\" lang=\"es\" type=\"0\" />'\n",
            "c055824e43495b5f323ba13a8746fb3f: 1\n",
            "b'<author id=\"c055824e43495b5f323ba13a8746fb3f\" lang=\"es\" type=\"1\" />'\n",
            "ff231322f3dacfd3fb63a5ed4013d484: 0\n",
            "b'<author id=\"ff231322f3dacfd3fb63a5ed4013d484\" lang=\"es\" type=\"0\" />'\n",
            "eab042e8f14208682c3923f5c3cb2fd5: 1\n",
            "b'<author id=\"eab042e8f14208682c3923f5c3cb2fd5\" lang=\"es\" type=\"1\" />'\n",
            "e7be3949db1822e2423a8d18150158a6: 0\n",
            "b'<author id=\"e7be3949db1822e2423a8d18150158a6\" lang=\"es\" type=\"0\" />'\n",
            "ce198bc2fa0c5d539971ab9d5a5aa219: 1\n",
            "b'<author id=\"ce198bc2fa0c5d539971ab9d5a5aa219\" lang=\"es\" type=\"1\" />'\n",
            "d85a4f8a6cc5c90a5d35f33f366031c2: 0\n",
            "b'<author id=\"d85a4f8a6cc5c90a5d35f33f366031c2\" lang=\"es\" type=\"0\" />'\n",
            "dc56dbd184faf59835d0da704f840203: 0\n",
            "b'<author id=\"dc56dbd184faf59835d0da704f840203\" lang=\"es\" type=\"0\" />'\n",
            "eba01a4a68462e333e206c99be7e2830: 1\n",
            "b'<author id=\"eba01a4a68462e333e206c99be7e2830\" lang=\"es\" type=\"1\" />'\n",
            "db8c491467f1581e6e92aa473a9a33d7: 1\n",
            "b'<author id=\"db8c491467f1581e6e92aa473a9a33d7\" lang=\"es\" type=\"1\" />'\n",
            "d60af4b5f2a5a80c93881cce09a2fffb: 1\n",
            "b'<author id=\"d60af4b5f2a5a80c93881cce09a2fffb\" lang=\"es\" type=\"1\" />'\n",
            "dc30863c8cf54fe9f52b03b171de0d38: 0\n",
            "b'<author id=\"dc30863c8cf54fe9f52b03b171de0d38\" lang=\"es\" type=\"0\" />'\n",
            "e8a2fed867e38a6ffb404e96221016cf: 1\n",
            "b'<author id=\"e8a2fed867e38a6ffb404e96221016cf\" lang=\"es\" type=\"1\" />'\n",
            "c7deb138f9201ccc4c60293f99b6c929: 1\n",
            "b'<author id=\"c7deb138f9201ccc4c60293f99b6c929\" lang=\"es\" type=\"1\" />'\n",
            "d2d84601d6266031baa83151395d1b54: 0\n",
            "b'<author id=\"d2d84601d6266031baa83151395d1b54\" lang=\"es\" type=\"0\" />'\n",
            "e6fb1e54cd00d479017b9425977e28ab: 0\n",
            "b'<author id=\"e6fb1e54cd00d479017b9425977e28ab\" lang=\"es\" type=\"0\" />'\n",
            "ce27fb17b5887f663ce1d12e26f53e51: 0\n",
            "b'<author id=\"ce27fb17b5887f663ce1d12e26f53e51\" lang=\"es\" type=\"0\" />'\n",
            "d79de1992dd7e47cfa3379aaec4112a8: 0\n",
            "b'<author id=\"d79de1992dd7e47cfa3379aaec4112a8\" lang=\"es\" type=\"0\" />'\n",
            "ca8656e171ddafeb28da3393f9daf3e1: 1\n",
            "b'<author id=\"ca8656e171ddafeb28da3393f9daf3e1\" lang=\"es\" type=\"1\" />'\n",
            "ee15094987298282e6fe8f093cdf4d94: 1\n",
            "b'<author id=\"ee15094987298282e6fe8f093cdf4d94\" lang=\"es\" type=\"1\" />'\n",
            "fe3bd38287e375e1a3b61a1649837669: 0\n",
            "b'<author id=\"fe3bd38287e375e1a3b61a1649837669\" lang=\"es\" type=\"0\" />'\n",
            "d4161c2729e99219f215ff98f4ad9793: 1\n",
            "b'<author id=\"d4161c2729e99219f215ff98f4ad9793\" lang=\"es\" type=\"1\" />'\n",
            "dbf00d94f669373f0bdec17cc89e363c: 1\n",
            "b'<author id=\"dbf00d94f669373f0bdec17cc89e363c\" lang=\"es\" type=\"1\" />'\n",
            "db2f1c456bef8b0ab7f3b460f390d88a: 1\n",
            "b'<author id=\"db2f1c456bef8b0ab7f3b460f390d88a\" lang=\"es\" type=\"1\" />'\n"
          ],
          "name": "stdout"
        }
      ]
    }
  ]
}